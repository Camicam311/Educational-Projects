{
 "metadata": {
  "name": "",
  "signature": "sha256:6318f6a16f6a1e563e3f96c0664df432ae6b59ebff86e3e0f1e692303eb7a3c6"
 },
 "nbformat": 3,
 "nbformat_minor": 0,
 "worksheets": [
  {
   "cells": [
    {
     "cell_type": "code",
     "collapsed": false,
     "input": [
      "import numpy as np\n",
      "import urllib\n",
      "import scipy.optimize\n",
      "import random"
     ],
     "language": "python",
     "metadata": {},
     "outputs": [],
     "prompt_number": 2
    },
    {
     "cell_type": "markdown",
     "metadata": {},
     "source": [
      "**1) Compute the following statistics about the data: (1) number of unique items (`beer/beerId'), (2) number\n",
      "of unique users, (3) mean for each of the ratings, (4) mean ABV (1 mark).**"
     ]
    },
    {
     "cell_type": "code",
     "collapsed": false,
     "input": [
      "def parseData(fname):\n",
      "  for l in urllib.urlopen(fname):\n",
      "    yield eval(l)\n",
      "\n",
      "%time data = list(parseData(\"http://jmcauley.ucsd.edu/cse190/data/beer/beer_50000.json\")) #to load from net\n"
     ],
     "language": "python",
     "metadata": {},
     "outputs": [
      {
       "output_type": "stream",
       "stream": "stdout",
       "text": [
        "Wall time: 1min 24s\n"
       ]
      }
     ],
     "prompt_number": 3
    },
    {
     "cell_type": "code",
     "collapsed": false,
     "input": [
      "num_unique_beers = len(set([d['beer/beerId'] for d in data]))\n",
      "num_unique_beers"
     ],
     "language": "python",
     "metadata": {},
     "outputs": [
      {
       "metadata": {},
       "output_type": "pyout",
       "prompt_number": 4,
       "text": [
        "1923"
       ]
      }
     ],
     "prompt_number": 4
    },
    {
     "cell_type": "code",
     "collapsed": false,
     "input": [
      "num_unique_users = len(set([d['user/profileName'] for d in data]))\n",
      "num_unique_users"
     ],
     "language": "python",
     "metadata": {},
     "outputs": [
      {
       "metadata": {},
       "output_type": "pyout",
       "prompt_number": 5,
       "text": [
        "8376"
       ]
      }
     ],
     "prompt_number": 5
    },
    {
     "cell_type": "code",
     "collapsed": false,
     "input": [
      "appearance_mean = np.mean([d['review/appearance'] for d in data])\n",
      "appearance_mean"
     ],
     "language": "python",
     "metadata": {},
     "outputs": [
      {
       "metadata": {},
       "output_type": "pyout",
       "prompt_number": 6,
       "text": [
        "3.8984000000000001"
       ]
      }
     ],
     "prompt_number": 6
    },
    {
     "cell_type": "code",
     "collapsed": false,
     "input": [
      "palate_mean = np.mean([d['review/palate'] for d in data])\n",
      "palate_mean"
     ],
     "language": "python",
     "metadata": {},
     "outputs": [
      {
       "metadata": {},
       "output_type": "pyout",
       "prompt_number": 7,
       "text": [
        "3.8526699999999998"
       ]
      }
     ],
     "prompt_number": 7
    },
    {
     "cell_type": "code",
     "collapsed": false,
     "input": [
      "overall_mean = np.mean([d['review/overall'] for d in data]) \n",
      "overall_mean"
     ],
     "language": "python",
     "metadata": {},
     "outputs": [
      {
       "metadata": {},
       "output_type": "pyout",
       "prompt_number": 8,
       "text": [
        "3.8887100000000001"
       ]
      }
     ],
     "prompt_number": 8
    },
    {
     "cell_type": "code",
     "collapsed": false,
     "input": [
      "aroma_mean = np.mean([d['review/aroma'] for d in data])\n",
      "aroma_mean"
     ],
     "language": "python",
     "metadata": {},
     "outputs": [
      {
       "metadata": {},
       "output_type": "pyout",
       "prompt_number": 9,
       "text": [
        "3.8715199999999999"
       ]
      }
     ],
     "prompt_number": 9
    },
    {
     "cell_type": "code",
     "collapsed": false,
     "input": [
      "taste_mean = np.mean([d['review/taste'] for d in data])\n",
      "taste_mean"
     ],
     "language": "python",
     "metadata": {},
     "outputs": [
      {
       "metadata": {},
       "output_type": "pyout",
       "prompt_number": 10,
       "text": [
        "3.92225"
       ]
      }
     ],
     "prompt_number": 10
    },
    {
     "cell_type": "code",
     "collapsed": false,
     "input": [
      "abv_mean = np.mean([d['beer/ABV'] for d in data])\n",
      "abv_mean"
     ],
     "language": "python",
     "metadata": {},
     "outputs": [
      {
       "metadata": {},
       "output_type": "pyout",
       "prompt_number": 11,
       "text": [
        "7.4002869999999996"
       ]
      }
     ],
     "prompt_number": 11
    },
    {
     "cell_type": "markdown",
     "metadata": {},
     "source": [
      "**2) What is the variance of the 'review/taste' scores in the data? What is the Mean Squared Error (MSE)\n",
      "obtained when predicting the 'review/taste' score using the mean value obtained above (1 mark)?**"
     ]
    },
    {
     "cell_type": "code",
     "collapsed": false,
     "input": [
      "taste_data = [d['review/taste'] for d in data]\n",
      "np.var(taste_data)"
     ],
     "language": "python",
     "metadata": {},
     "outputs": [
      {
       "metadata": {},
       "output_type": "pyout",
       "prompt_number": 12,
       "text": [
        "0.51356993750000002"
       ]
      }
     ],
     "prompt_number": 12
    },
    {
     "cell_type": "code",
     "collapsed": false,
     "input": [
      "taste_mse = (1.0/len(taste_data))*np.sum([(d-taste_mean)**2 for d in taste_data])\n",
      "taste_mse\n",
      "#Mean Squared Error review/taste (which in this case would be variance)"
     ],
     "language": "python",
     "metadata": {},
     "outputs": [
      {
       "metadata": {},
       "output_type": "pyout",
       "prompt_number": 13,
       "text": [
        "0.51356993750000002"
       ]
      }
     ],
     "prompt_number": 13
    },
    {
     "cell_type": "markdown",
     "metadata": {},
     "source": [
      "**3) Using ordinary linear regression, train a predictor that uses the ABV ('beer/ABV') to predict the taste\n",
      "You may use Python libraries to do so. What are the fitted values? What are the interpretations of these fitted values (1 mark)?**"
     ]
    },
    {
     "cell_type": "code",
     "collapsed": false,
     "input": [
      "\n",
      "def feature(datum):\n",
      "  return [1,datum['beer/ABV']]\n",
      "\n",
      "X = [feature(d) for d in data]\n",
      "y = [d['review/taste'] for d in data]\n",
      "\n",
      "theta,residuals,rank,s = np.linalg.lstsq(X, y)\n",
      "theta\n",
      "#The prediction for thetas in the regression line: "
     ],
     "language": "python",
     "metadata": {},
     "outputs": [
      {
       "metadata": {},
       "output_type": "pyout",
       "prompt_number": 14,
       "text": [
        "array([ 3.11521115,  0.10905507])"
       ]
      }
     ],
     "prompt_number": 14
    },
    {
     "cell_type": "markdown",
     "metadata": {},
     "source": [
      "With no alcohol users will give the beer 3 stars on average. The rating will increase by 0.1 for each unit of increase in ABV\n"
     ]
    },
    {
     "cell_type": "markdown",
     "metadata": {},
     "source": [
      "**4) Split the data into two equal fractions. Train the same model as above on the training set only. What is the model's MSE on the training and on the test set (1 mark)?**"
     ]
    },
    {
     "cell_type": "code",
     "collapsed": false,
     "input": [
      "data_train = data[:len(data)/2]\n",
      "data_test = data[(len(data)/2):]\n",
      "\n",
      "X = [feature(d) for d in data_train]\n",
      "y = [d['review/taste'] for d in data_train]\n",
      "\n",
      "theta,residuals,rank,s = np.linalg.lstsq(X, y)\n",
      "theta\n",
      "#params of the trained model for part 1 question 4"
     ],
     "language": "python",
     "metadata": {},
     "outputs": [
      {
       "metadata": {},
       "output_type": "pyout",
       "prompt_number": 19,
       "text": [
        "array([ 2.99503282,  0.11690802])"
       ]
      }
     ],
     "prompt_number": 19
    },
    {
     "cell_type": "code",
     "collapsed": false,
     "input": [
      "#Calculate training MSE\n",
      "train_MSE = (1.0/len(data_train))*np.sum([(d['review/taste'] - np.dot(feature(d),theta))**2 for d in data_train])\n",
      "train_MSE"
     ],
     "language": "python",
     "metadata": {},
     "outputs": [
      {
       "metadata": {},
       "output_type": "pyout",
       "prompt_number": 20,
       "text": [
        "0.48398310511483134"
       ]
      }
     ],
     "prompt_number": 20
    },
    {
     "cell_type": "code",
     "collapsed": false,
     "input": [
      "#Calculate the test MSE\n",
      "test_MSE = (1.0/len(data_test))*np.sum([(d['review/taste'] - np.dot(feature(d),theta))**2 for d in data_test])\n",
      "test_MSE"
     ],
     "language": "python",
     "metadata": {},
     "outputs": [
      {
       "metadata": {},
       "output_type": "pyout",
       "prompt_number": 21,
       "text": [
        "0.4237765280227741"
       ]
      }
     ],
     "prompt_number": 21
    },
    {
     "cell_type": "markdown",
     "metadata": {},
     "source": [
      "**5) Suppose you want to incorporate the time of day into your predictor of the 'taste' rating (e.g. because\n",
      "you believe people may evaluate the taste more positively or negatively at certain times of the day).\n",
      "How would you construct a feature vector to represent this quantity? Using the same train/test split as\n",
      "above, train a model using this feature and report its performance (MSE) on the train/test sets What\n",
      "conclusions can you draw (if any) can you draw from the fitted values (2 marks)?**"
     ]
    },
    {
     "cell_type": "code",
     "collapsed": false,
     "input": [
      "def feature2(datum):\n",
      "    feature_vec = [0]*23\n",
      "    cur_hour = datum['review/timeStruct']['hour']\n",
      "    if(not(cur_hour == 23)):\n",
      "        feature_vec[cur_hour] = 1\n",
      "    return feature_vec\n",
      "\n",
      "X = [feature2(d) for d in data_train]\n",
      "y = [d['review/taste'] for d in data_train]\n",
      "\n",
      "theta,residuals,rank,s = np.linalg.lstsq(X, y)\n",
      "theta\n",
      "\n",
      "#params of the trained model for part 1 question 5 based on time feature"
     ],
     "language": "python",
     "metadata": {},
     "outputs": [
      {
       "metadata": {},
       "output_type": "pyout",
       "prompt_number": 27,
       "text": [
        "array([ 3.9258216 ,  3.92979167,  3.96444812,  3.93024367,  3.97555411,\n",
        "        3.91759919,  3.90558912,  3.82219251,  3.73373984,  3.81699346,\n",
        "        3.79738562,  3.77295918,  3.8619186 ,  3.78247423,  3.87777778,\n",
        "        3.90161527,  3.9205845 ,  3.87336957,  3.86134853,  3.90198864,\n",
        "        3.88309061,  3.89385692,  3.88935282])"
       ]
      }
     ],
     "prompt_number": 27
    },
    {
     "cell_type": "code",
     "collapsed": false,
     "input": [
      "#Calculate training MSE\n",
      "train_MSE = (1.0/len(data_train))*np.sum([(d['review/taste'] - np.dot(feature2(d),theta))**2 for d in data_train])\n",
      "train_MSE"
     ],
     "language": "python",
     "metadata": {},
     "outputs": [
      {
       "metadata": {},
       "output_type": "pyout",
       "prompt_number": 93,
       "text": [
        "1.6302141761823434"
       ]
      }
     ],
     "prompt_number": 93
    },
    {
     "cell_type": "code",
     "collapsed": false,
     "input": [
      "#Calculate the test MSE\n",
      "test_MSE = (1.0/len(data_test))*np.sum([(d['review/taste'] - np.dot(feature2(d),theta))**2 for d in data_test])\n",
      "test_MSE"
     ],
     "language": "python",
     "metadata": {},
     "outputs": [
      {
       "metadata": {},
       "output_type": "pyout",
       "prompt_number": 94,
       "text": [
        "1.5828539490806013"
       ]
      }
     ],
     "prompt_number": 94
    },
    {
     "cell_type": "markdown",
     "metadata": {},
     "source": [
      "The parameters for the time regression attempts to predict what the review/taste rating will be over time, using a 23 dimensional feature vector representing which hour it is. \n",
      "Since 3.97555411 is the highest number in this vector, its position indicates the best hour for taste ratings, which is at hour 4. So it seems 4am is the best time to rate. "
     ]
    },
    {
     "cell_type": "markdown",
     "metadata": {},
     "source": [
      "**Part 2.1: Download the book descriptions data. For this and the next question we will consider identifying \\Romance\"\n",
      "novels based on words in their descriptions.**"
     ]
    },
    {
     "cell_type": "code",
     "collapsed": false,
     "input": [
      "%time data = list(parseData(\"http://jmcauley.ucsd.edu/cse190/data/amazon/book_descriptions_50000.json\")) #to load from net"
     ],
     "language": "python",
     "metadata": {},
     "outputs": [
      {
       "output_type": "stream",
       "stream": "stdout",
       "text": [
        "Wall time: 2min 21s\n"
       ]
      }
     ],
     "prompt_number": 30
    },
    {
     "cell_type": "code",
     "collapsed": false,
     "input": [
      "#p(has category \"Romance\")\n",
      "numMentionsRomance = len([d['categories'] for d in data if ('Romance' in d['categories'])])*1.0\n",
      "prbHasCatRomance = (numMentionsRomance)/len(data)\n",
      "prbHasCatRomance"
     ],
     "language": "python",
     "metadata": {},
     "outputs": [
      {
       "metadata": {},
       "output_type": "pyout",
       "prompt_number": 45,
       "text": [
        "0.03198"
       ]
      }
     ],
     "prompt_number": 45
    },
    {
     "cell_type": "code",
     "collapsed": false,
     "input": [
      "#p(mentions \"love\" in description j has category \"Romance\")\n",
      "numMentionsLoveInCatRomance = len([d for d in data if (('Romance' in d['categories'])\n",
      "                                                    and (\"love\" in d['description']) or (\"Love\" in d['description']))])\n",
      "prbLoveInCatRomance = numMentionsLoveInCatRomance/numMentionsRomance\n",
      "prbLoveInCatRomance"
     ],
     "language": "python",
     "metadata": {},
     "outputs": [
      {
       "metadata": {},
       "output_type": "pyout",
       "prompt_number": 57,
       "text": [
        "0.4878048780487805"
       ]
      }
     ],
     "prompt_number": 57
    },
    {
     "cell_type": "markdown",
     "metadata": {},
     "source": [
      "**Part 2.2: Following the na\u007five Bayes assumption, compute the value of a more complex bayesian prb**"
     ]
    },
    {
     "cell_type": "code",
     "collapsed": false,
     "input": [
      "numHasLoveAndBeaut = len([d for d in data if ((\"love\" in d['description']) and (\"beaut\" in d['description']))])\n",
      "numCRomanceGe = len([d for d in data if ((\"love\" in d['description']) and (\"beaut\" in d['description']) \n",
      "                                                                 and (\"Romance\" in d['categories']))])\n",
      "pNumerator = (numCRomanceGe*1.0)/numHasLoveAndBeaut\n",
      "pDenominator = 1-pNumerator\n",
      "\n",
      "pBayes = pNumerator/pDenominator\n",
      "pBayes"
     ],
     "language": "python",
     "metadata": {},
     "outputs": [
      {
       "metadata": {},
       "output_type": "pyout",
       "prompt_number": 66,
       "text": [
        "0.12466843501326261"
       ]
      }
     ],
     "prompt_number": 66
    },
    {
     "cell_type": "markdown",
     "metadata": {},
     "source": [
      "The string beaut is more effective than beauty or beautiful because beaut is a substring of both of these terms. Since it is a substring of both, it can capture both of these terms in the description. "
     ]
    },
    {
     "cell_type": "markdown",
     "metadata": {},
     "source": [
      "**Part 2.3: Implement a na\u007five Bayes classifier using the above two features. Report the above probability for the four possible\n",
      "feature combinations**"
     ]
    },
    {
     "cell_type": "code",
     "collapsed": false,
     "input": [
      "numLoveAndBeaut = len([d for d in data if ((\"love\" in d['description']) and (\"beaut\" in d['description']))])\n",
      "numCRomanceGe1 = len([d for d in data if ((\"love\" in d['description']) and (\"beaut\" in d['description']) \n",
      "                                                                and (\"Romance\" in d['categories']))])\n",
      "pNum1 = (numCRomanceGe1*1.0)/numLoveAndBeaut\n",
      "pDenom1 = 1 - pNum1\n",
      "pBayes1 = pNum1/pDenom1\n",
      "pBayes1\n",
      "#Bayes Prb for mentions love and beaut"
     ],
     "language": "python",
     "metadata": {},
     "outputs": [
      {
       "metadata": {},
       "output_type": "pyout",
       "prompt_number": 88,
       "text": [
        "0.12466843501326261"
       ]
      }
     ],
     "prompt_number": 88
    },
    {
     "cell_type": "code",
     "collapsed": false,
     "input": [
      "numLoveNoBeaut = len([d for d in data if ((\"love\" in d['description']) and not(\"beaut\" in d['description']))])\n",
      "numCRomanceGe2 = len([d for d in data if ((\"love\" in d['description']) and not(\"beaut\" in d['description']) \n",
      "                                                                and (\"Romance\" in d['categories']))])\n",
      "pNum2 = (numCRomanceGe2*1.0)/numLoveNoBeaut\n",
      "pDenom2 = 1 - pNum2\n",
      "pBayes2 = pNum2/pDenom2\n",
      "pBayes2\n",
      "#Bayes Prb for mentions love and not beaut"
     ],
     "language": "python",
     "metadata": {},
     "outputs": [
      {
       "metadata": {},
       "output_type": "pyout",
       "prompt_number": 85,
       "text": [
        "0.08611155000790013"
       ]
      }
     ],
     "prompt_number": 85
    },
    {
     "cell_type": "code",
     "collapsed": false,
     "input": [
      "numNoLoveAndBeaut = len([d for d in data if (not(\"love\" in d['description']) and (\"beaut\" in d['description']))])\n",
      "numCRomanceGe3 = len([d for d in data if (not(\"love\" in d['description']) and (\"beaut\" in d['description']) \n",
      "                                                                and (\"Romance\" in d['categories']))])\n",
      "pNum3 = (numCRomanceGe3*1.0)/numNoLoveAndBeaut\n",
      "pDenom3 = 1 - pNum3\n",
      "pBayes3 = pNum3/pDenom3\n",
      "pBayes3\n",
      "#Bayes Prb for does not mention love and mentions beaut"
     ],
     "language": "python",
     "metadata": {},
     "outputs": [
      {
       "metadata": {},
       "output_type": "pyout",
       "prompt_number": 86,
       "text": [
        "0.03652751423149905"
       ]
      }
     ],
     "prompt_number": 86
    },
    {
     "cell_type": "code",
     "collapsed": false,
     "input": [
      "numNoLoveNoBeaut = len([d for d in data if (not(\"love\" in d['description']) and not(\"beaut\" in d['description']))])\n",
      "numCRomanceGe4 = len([d for d in data if (not(\"love\" in d['description']) and not(\"beaut\" in d['description']) \n",
      "                                                                and (\"Romance\" in d['categories']))])\n",
      "pNum4 = (numCRomanceGe4*1.0)/numNoLoveNoBeaut\n",
      "pDenom4 = 1 - pNum4\n",
      "pBayes4 = pNum4/pDenom4\n",
      "pBayes4\n",
      "#Bayes Prb for does not mention love and beaut"
     ],
     "language": "python",
     "metadata": {},
     "outputs": [
      {
       "metadata": {},
       "output_type": "pyout",
       "prompt_number": 87,
       "text": [
        "0.019485805824732794"
       ]
      }
     ],
     "prompt_number": 87
    }
   ],
   "metadata": {}
  }
 ]
}